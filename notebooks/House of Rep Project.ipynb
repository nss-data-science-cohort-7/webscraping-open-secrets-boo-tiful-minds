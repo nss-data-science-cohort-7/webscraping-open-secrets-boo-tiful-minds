{
 "cells": [
  {
   "cell_type": "code",
   "execution_count": 6,
   "id": "c6365215",
   "metadata": {},
   "outputs": [],
   "source": [
    "import requests\n",
    "import numpy as np\n",
    "import pandas as pd\n",
    "import matplotlib.pyplot as plt\n",
    "import seaborn as sns\n",
    "from bs4 import BeautifulSoup"
   ]
  },
  {
   "cell_type": "code",
   "execution_count": 8,
   "id": "a6e7b8b7",
   "metadata": {},
   "outputs": [],
   "source": [
    "#URL for 7th District candidates\n",
    "URL = \"https://www.opensecrets.org/races/candidates?cycle=2020&id=TN07&spec=N\"\n",
    "\n",
    "response = requests.get(URL)\n",
    "soup = BeautifulSoup(response.text)"
   ]
  },
  {
   "cell_type": "code",
   "execution_count": 27,
   "id": "1e55c4ac",
   "metadata": {},
   "outputs": [
    {
     "data": {
      "text/plain": [
       "'Mark Green '"
      ]
     },
     "execution_count": 27,
     "metadata": {},
     "output_type": "execute_result"
    }
   ],
   "source": [
    "#Find the candidate names\n",
    "soup.find('strong').text.strip().split('(')[0]"
   ]
  },
  {
   "cell_type": "code",
   "execution_count": null,
   "id": "a534b53f",
   "metadata": {},
   "outputs": [],
   "source": []
  }
 ],
 "metadata": {
  "kernelspec": {
   "display_name": "Python 3 (ipykernel)",
   "language": "python",
   "name": "python3"
  },
  "language_info": {
   "codemirror_mode": {
    "name": "ipython",
    "version": 3
   },
   "file_extension": ".py",
   "mimetype": "text/x-python",
   "name": "python",
   "nbconvert_exporter": "python",
   "pygments_lexer": "ipython3",
   "version": "3.10.9"
  }
 },
 "nbformat": 4,
 "nbformat_minor": 5
}
