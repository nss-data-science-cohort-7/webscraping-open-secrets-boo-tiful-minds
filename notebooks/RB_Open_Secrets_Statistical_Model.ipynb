{
 "cells": [
  {
   "cell_type": "markdown",
   "id": "6ac09e92",
   "metadata": {},
   "source": [
    "Part 3: Statistical Modeling\n",
    "\n",
    "Fit a logistic regression model to see if the amount spent has a statistically significant impact on the probability of winning an election."
   ]
  },
  {
   "cell_type": "markdown",
   "id": "08a93a80",
   "metadata": {},
   "source": [
    "Feel free to brainstorm ways to set up your model, but a suggestion to get started would be to calculate, for each candidate, the percentage of to total amount spent in their race that was spent by them and use this as your predictor variable of interest. Hint: you may find the transform method (https://pandas.pydata.org/docs/reference/api/pandas.DataFrame.transform.html) in combination with groupby useful to find the total spending by race.\n",
    "Don't forget to include the incumbent variable in your model."
   ]
  },
  {
   "cell_type": "markdown",
   "id": "80f2e8fe",
   "metadata": {},
   "source": [
    "After fitting your model, interpret the meaning of the coefficients you get."
   ]
  },
  {
   "cell_type": "code",
   "execution_count": 1,
   "id": "52583822",
   "metadata": {},
   "outputs": [],
   "source": [
    "import pandas as pd\n",
    "import numpy as np\n",
    "import seaborn as sns\n",
    "import matplotlib.pyplot as plt"
   ]
  },
  {
   "cell_type": "code",
   "execution_count": 2,
   "id": "b389192d",
   "metadata": {},
   "outputs": [],
   "source": [
    "house_race_2020 = pd.read_csv('../data/house_rep_data_final.csv')"
   ]
  },
  {
   "cell_type": "code",
   "execution_count": null,
   "id": "6d48bf26",
   "metadata": {},
   "outputs": [],
   "source": []
  }
 ],
 "metadata": {
  "kernelspec": {
   "display_name": "Python 3 (ipykernel)",
   "language": "python",
   "name": "python3"
  },
  "language_info": {
   "codemirror_mode": {
    "name": "ipython",
    "version": 3
   },
   "file_extension": ".py",
   "mimetype": "text/x-python",
   "name": "python",
   "nbconvert_exporter": "python",
   "pygments_lexer": "ipython3",
   "version": "3.10.12"
  }
 },
 "nbformat": 4,
 "nbformat_minor": 5
}
